{
 "cells": [
  {
   "cell_type": "markdown",
   "id": "f0bb3b36-aa29-415e-bacb-51db6241baf7",
   "metadata": {},
   "source": [
    "# Placement Prediction"
   ]
  },
  {
   "cell_type": "code",
   "execution_count": 1,
   "id": "ff530f8e-a563-4acd-9e57-c40688099fd1",
   "metadata": {},
   "outputs": [],
   "source": [
    "# Import Required Libraries"
   ]
  },
  {
   "cell_type": "code",
   "execution_count": 2,
   "id": "a2449725-3cd4-4c4d-b2e5-4e9bc4c73181",
   "metadata": {},
   "outputs": [],
   "source": [
    "import pandas as pd\n",
    "import numpy as np\n",
    "import matplotlib.pyplot as plt\n",
    "import seaborn as sns\n",
    "import joblib\n",
    "from sklearn.model_selection import train_test_split , StratifiedKFold , KFold , cross_val_score , GridSearchCV , RandomizedSearchCV\n",
    "from sklearn.preprocessing import OneHotEncoder , LabelEncoder , OrdinalEncoder , StandardScaler , MinMaxScaler\n",
    "from sklearn.linear_model import LogisticRegression\n",
    "from sklearn.svm import SVC\n",
    "from sklearn.neighbors import KNeighborsClassifier\n",
    "from sklearn.tree import DecisionTreeClassifier\n",
    "from sklearn.ensemble import RandomForestClassifier\n",
    "from sklearn.ensemble import AdaBoostClassifier\n",
    "from sklearn.ensemble import GradientBoostingClassifier\n",
    "import xgboost as xgb\n",
    "from imblearn.over_sampling import SMOTE\n",
    "from sklearn.metrics import f1_score , precision_score , recall_score , confusion_matrix , accuracy_score"
   ]
  },
  {
   "cell_type": "code",
   "execution_count": 3,
   "id": "2fc923dd-61b4-42cd-a41a-3c81bb4b3ee0",
   "metadata": {},
   "outputs": [],
   "source": [
    "# Load The Dataset"
   ]
  },
  {
   "cell_type": "code",
   "execution_count": 4,
   "id": "e1327ec0-f44f-4ef3-b907-f6c098faa3c2",
   "metadata": {},
   "outputs": [],
   "source": [
    "dataset = pd.read_csv(\"placement_dataset.csv\")"
   ]
  },
  {
   "cell_type": "code",
   "execution_count": 5,
   "id": "f6df20c7-2b0f-4062-8dfe-724aa60da72a",
   "metadata": {},
   "outputs": [
    {
     "data": {
      "text/html": [
       "<div>\n",
       "<style scoped>\n",
       "    .dataframe tbody tr th:only-of-type {\n",
       "        vertical-align: middle;\n",
       "    }\n",
       "\n",
       "    .dataframe tbody tr th {\n",
       "        vertical-align: top;\n",
       "    }\n",
       "\n",
       "    .dataframe thead th {\n",
       "        text-align: right;\n",
       "    }\n",
       "</style>\n",
       "<table border=\"1\" class=\"dataframe\">\n",
       "  <thead>\n",
       "    <tr style=\"text-align: right;\">\n",
       "      <th></th>\n",
       "      <th>StudentID</th>\n",
       "      <th>CGPA</th>\n",
       "      <th>Internships</th>\n",
       "      <th>Projects</th>\n",
       "      <th>Workshops/Certifications</th>\n",
       "      <th>AptitudeTestScore</th>\n",
       "      <th>SoftSkillsRating</th>\n",
       "      <th>ExtracurricularActivities</th>\n",
       "      <th>PlacementTraining</th>\n",
       "      <th>SSC_Marks</th>\n",
       "      <th>HSC_Marks</th>\n",
       "      <th>PlacementStatus</th>\n",
       "    </tr>\n",
       "  </thead>\n",
       "  <tbody>\n",
       "    <tr>\n",
       "      <th>0</th>\n",
       "      <td>1</td>\n",
       "      <td>7.5</td>\n",
       "      <td>1</td>\n",
       "      <td>1</td>\n",
       "      <td>1</td>\n",
       "      <td>65</td>\n",
       "      <td>4.4</td>\n",
       "      <td>No</td>\n",
       "      <td>No</td>\n",
       "      <td>61</td>\n",
       "      <td>79</td>\n",
       "      <td>NotPlaced</td>\n",
       "    </tr>\n",
       "    <tr>\n",
       "      <th>1</th>\n",
       "      <td>2</td>\n",
       "      <td>8.9</td>\n",
       "      <td>0</td>\n",
       "      <td>3</td>\n",
       "      <td>2</td>\n",
       "      <td>90</td>\n",
       "      <td>4.0</td>\n",
       "      <td>Yes</td>\n",
       "      <td>Yes</td>\n",
       "      <td>78</td>\n",
       "      <td>82</td>\n",
       "      <td>Placed</td>\n",
       "    </tr>\n",
       "    <tr>\n",
       "      <th>2</th>\n",
       "      <td>3</td>\n",
       "      <td>7.3</td>\n",
       "      <td>1</td>\n",
       "      <td>2</td>\n",
       "      <td>2</td>\n",
       "      <td>82</td>\n",
       "      <td>4.8</td>\n",
       "      <td>Yes</td>\n",
       "      <td>No</td>\n",
       "      <td>79</td>\n",
       "      <td>80</td>\n",
       "      <td>NotPlaced</td>\n",
       "    </tr>\n",
       "    <tr>\n",
       "      <th>3</th>\n",
       "      <td>4</td>\n",
       "      <td>7.5</td>\n",
       "      <td>1</td>\n",
       "      <td>1</td>\n",
       "      <td>2</td>\n",
       "      <td>85</td>\n",
       "      <td>4.4</td>\n",
       "      <td>Yes</td>\n",
       "      <td>Yes</td>\n",
       "      <td>81</td>\n",
       "      <td>80</td>\n",
       "      <td>Placed</td>\n",
       "    </tr>\n",
       "    <tr>\n",
       "      <th>4</th>\n",
       "      <td>5</td>\n",
       "      <td>8.3</td>\n",
       "      <td>1</td>\n",
       "      <td>2</td>\n",
       "      <td>2</td>\n",
       "      <td>86</td>\n",
       "      <td>4.5</td>\n",
       "      <td>Yes</td>\n",
       "      <td>Yes</td>\n",
       "      <td>74</td>\n",
       "      <td>88</td>\n",
       "      <td>Placed</td>\n",
       "    </tr>\n",
       "  </tbody>\n",
       "</table>\n",
       "</div>"
      ],
      "text/plain": [
       "   StudentID  CGPA  Internships  Projects  Workshops/Certifications  \\\n",
       "0          1   7.5            1         1                         1   \n",
       "1          2   8.9            0         3                         2   \n",
       "2          3   7.3            1         2                         2   \n",
       "3          4   7.5            1         1                         2   \n",
       "4          5   8.3            1         2                         2   \n",
       "\n",
       "   AptitudeTestScore  SoftSkillsRating ExtracurricularActivities  \\\n",
       "0                 65               4.4                        No   \n",
       "1                 90               4.0                       Yes   \n",
       "2                 82               4.8                       Yes   \n",
       "3                 85               4.4                       Yes   \n",
       "4                 86               4.5                       Yes   \n",
       "\n",
       "  PlacementTraining  SSC_Marks  HSC_Marks PlacementStatus  \n",
       "0                No         61         79       NotPlaced  \n",
       "1               Yes         78         82          Placed  \n",
       "2                No         79         80       NotPlaced  \n",
       "3               Yes         81         80          Placed  \n",
       "4               Yes         74         88          Placed  "
      ]
     },
     "execution_count": 5,
     "metadata": {},
     "output_type": "execute_result"
    }
   ],
   "source": [
    "dataset.head()"
   ]
  },
  {
   "cell_type": "code",
   "execution_count": 6,
   "id": "8ee18e3f-b0a2-4e92-a29a-3ec56a9eb23b",
   "metadata": {},
   "outputs": [
    {
     "name": "stdout",
     "output_type": "stream",
     "text": [
      "<class 'pandas.core.frame.DataFrame'>\n",
      "RangeIndex: 10000 entries, 0 to 9999\n",
      "Data columns (total 12 columns):\n",
      " #   Column                     Non-Null Count  Dtype  \n",
      "---  ------                     --------------  -----  \n",
      " 0   StudentID                  10000 non-null  int64  \n",
      " 1   CGPA                       10000 non-null  float64\n",
      " 2   Internships                10000 non-null  int64  \n",
      " 3   Projects                   10000 non-null  int64  \n",
      " 4   Workshops/Certifications   10000 non-null  int64  \n",
      " 5   AptitudeTestScore          10000 non-null  int64  \n",
      " 6   SoftSkillsRating           10000 non-null  float64\n",
      " 7   ExtracurricularActivities  10000 non-null  object \n",
      " 8   PlacementTraining          10000 non-null  object \n",
      " 9   SSC_Marks                  10000 non-null  int64  \n",
      " 10  HSC_Marks                  10000 non-null  int64  \n",
      " 11  PlacementStatus            10000 non-null  object \n",
      "dtypes: float64(2), int64(7), object(3)\n",
      "memory usage: 937.6+ KB\n"
     ]
    }
   ],
   "source": [
    "dataset.info()"
   ]
  },
  {
   "cell_type": "code",
   "execution_count": 7,
   "id": "ac61bb5f-2e26-48ad-ad52-9ba3d9ff602f",
   "metadata": {},
   "outputs": [
    {
     "data": {
      "text/plain": [
       "(10000, 12)"
      ]
     },
     "execution_count": 7,
     "metadata": {},
     "output_type": "execute_result"
    }
   ],
   "source": [
    "dataset.shape"
   ]
  },
  {
   "cell_type": "code",
   "execution_count": 8,
   "id": "f2beacc6-ceea-4910-8ae1-6358082bba88",
   "metadata": {},
   "outputs": [
    {
     "data": {
      "text/html": [
       "<div>\n",
       "<style scoped>\n",
       "    .dataframe tbody tr th:only-of-type {\n",
       "        vertical-align: middle;\n",
       "    }\n",
       "\n",
       "    .dataframe tbody tr th {\n",
       "        vertical-align: top;\n",
       "    }\n",
       "\n",
       "    .dataframe thead th {\n",
       "        text-align: right;\n",
       "    }\n",
       "</style>\n",
       "<table border=\"1\" class=\"dataframe\">\n",
       "  <thead>\n",
       "    <tr style=\"text-align: right;\">\n",
       "      <th></th>\n",
       "      <th>StudentID</th>\n",
       "      <th>CGPA</th>\n",
       "      <th>Internships</th>\n",
       "      <th>Projects</th>\n",
       "      <th>Workshops/Certifications</th>\n",
       "      <th>AptitudeTestScore</th>\n",
       "      <th>SoftSkillsRating</th>\n",
       "      <th>SSC_Marks</th>\n",
       "      <th>HSC_Marks</th>\n",
       "    </tr>\n",
       "  </thead>\n",
       "  <tbody>\n",
       "    <tr>\n",
       "      <th>count</th>\n",
       "      <td>10000.00000</td>\n",
       "      <td>10000.000000</td>\n",
       "      <td>10000.000000</td>\n",
       "      <td>10000.000000</td>\n",
       "      <td>10000.000000</td>\n",
       "      <td>10000.000000</td>\n",
       "      <td>10000.000000</td>\n",
       "      <td>10000.000000</td>\n",
       "      <td>10000.000000</td>\n",
       "    </tr>\n",
       "    <tr>\n",
       "      <th>mean</th>\n",
       "      <td>5000.50000</td>\n",
       "      <td>7.698010</td>\n",
       "      <td>1.049200</td>\n",
       "      <td>2.026600</td>\n",
       "      <td>1.013200</td>\n",
       "      <td>79.449900</td>\n",
       "      <td>4.323960</td>\n",
       "      <td>69.159400</td>\n",
       "      <td>74.501500</td>\n",
       "    </tr>\n",
       "    <tr>\n",
       "      <th>std</th>\n",
       "      <td>2886.89568</td>\n",
       "      <td>0.640131</td>\n",
       "      <td>0.665901</td>\n",
       "      <td>0.867968</td>\n",
       "      <td>0.904272</td>\n",
       "      <td>8.159997</td>\n",
       "      <td>0.411622</td>\n",
       "      <td>10.430459</td>\n",
       "      <td>8.919527</td>\n",
       "    </tr>\n",
       "    <tr>\n",
       "      <th>min</th>\n",
       "      <td>1.00000</td>\n",
       "      <td>6.500000</td>\n",
       "      <td>0.000000</td>\n",
       "      <td>0.000000</td>\n",
       "      <td>0.000000</td>\n",
       "      <td>60.000000</td>\n",
       "      <td>3.000000</td>\n",
       "      <td>55.000000</td>\n",
       "      <td>57.000000</td>\n",
       "    </tr>\n",
       "    <tr>\n",
       "      <th>25%</th>\n",
       "      <td>2500.75000</td>\n",
       "      <td>7.400000</td>\n",
       "      <td>1.000000</td>\n",
       "      <td>1.000000</td>\n",
       "      <td>0.000000</td>\n",
       "      <td>73.000000</td>\n",
       "      <td>4.000000</td>\n",
       "      <td>59.000000</td>\n",
       "      <td>67.000000</td>\n",
       "    </tr>\n",
       "    <tr>\n",
       "      <th>50%</th>\n",
       "      <td>5000.50000</td>\n",
       "      <td>7.700000</td>\n",
       "      <td>1.000000</td>\n",
       "      <td>2.000000</td>\n",
       "      <td>1.000000</td>\n",
       "      <td>80.000000</td>\n",
       "      <td>4.400000</td>\n",
       "      <td>70.000000</td>\n",
       "      <td>73.000000</td>\n",
       "    </tr>\n",
       "    <tr>\n",
       "      <th>75%</th>\n",
       "      <td>7500.25000</td>\n",
       "      <td>8.200000</td>\n",
       "      <td>1.000000</td>\n",
       "      <td>3.000000</td>\n",
       "      <td>2.000000</td>\n",
       "      <td>87.000000</td>\n",
       "      <td>4.700000</td>\n",
       "      <td>78.000000</td>\n",
       "      <td>83.000000</td>\n",
       "    </tr>\n",
       "    <tr>\n",
       "      <th>max</th>\n",
       "      <td>10000.00000</td>\n",
       "      <td>9.100000</td>\n",
       "      <td>2.000000</td>\n",
       "      <td>3.000000</td>\n",
       "      <td>3.000000</td>\n",
       "      <td>90.000000</td>\n",
       "      <td>4.800000</td>\n",
       "      <td>90.000000</td>\n",
       "      <td>88.000000</td>\n",
       "    </tr>\n",
       "  </tbody>\n",
       "</table>\n",
       "</div>"
      ],
      "text/plain": [
       "         StudentID          CGPA   Internships      Projects  \\\n",
       "count  10000.00000  10000.000000  10000.000000  10000.000000   \n",
       "mean    5000.50000      7.698010      1.049200      2.026600   \n",
       "std     2886.89568      0.640131      0.665901      0.867968   \n",
       "min        1.00000      6.500000      0.000000      0.000000   \n",
       "25%     2500.75000      7.400000      1.000000      1.000000   \n",
       "50%     5000.50000      7.700000      1.000000      2.000000   \n",
       "75%     7500.25000      8.200000      1.000000      3.000000   \n",
       "max    10000.00000      9.100000      2.000000      3.000000   \n",
       "\n",
       "       Workshops/Certifications  AptitudeTestScore  SoftSkillsRating  \\\n",
       "count              10000.000000       10000.000000      10000.000000   \n",
       "mean                   1.013200          79.449900          4.323960   \n",
       "std                    0.904272           8.159997          0.411622   \n",
       "min                    0.000000          60.000000          3.000000   \n",
       "25%                    0.000000          73.000000          4.000000   \n",
       "50%                    1.000000          80.000000          4.400000   \n",
       "75%                    2.000000          87.000000          4.700000   \n",
       "max                    3.000000          90.000000          4.800000   \n",
       "\n",
       "          SSC_Marks     HSC_Marks  \n",
       "count  10000.000000  10000.000000  \n",
       "mean      69.159400     74.501500  \n",
       "std       10.430459      8.919527  \n",
       "min       55.000000     57.000000  \n",
       "25%       59.000000     67.000000  \n",
       "50%       70.000000     73.000000  \n",
       "75%       78.000000     83.000000  \n",
       "max       90.000000     88.000000  "
      ]
     },
     "execution_count": 8,
     "metadata": {},
     "output_type": "execute_result"
    }
   ],
   "source": [
    "dataset.describe()"
   ]
  },
  {
   "cell_type": "code",
   "execution_count": 9,
   "id": "f216cfaf-7774-4bb5-b4b7-a4c7a8b07c0f",
   "metadata": {},
   "outputs": [],
   "source": [
    "# Data Preprocessing"
   ]
  },
  {
   "cell_type": "code",
   "execution_count": 10,
   "id": "b8ab4e2a-b474-4327-9526-6ad58c56bd6b",
   "metadata": {},
   "outputs": [],
   "source": [
    "dataset.drop(columns=['StudentID'],inplace=True)"
   ]
  },
  {
   "cell_type": "code",
   "execution_count": 11,
   "id": "3bddfc93-b11b-4fe3-b3a7-b9c31a4919d7",
   "metadata": {},
   "outputs": [],
   "source": [
    "dataset[\"PlacementStatus\"]= dataset[\"PlacementStatus\"].replace('NotPlaced','Not Placed')"
   ]
  },
  {
   "cell_type": "code",
   "execution_count": 12,
   "id": "b073193b-a4bf-4a79-a77c-9688f68cc69b",
   "metadata": {},
   "outputs": [
    {
     "data": {
      "text/plain": [
       "array(['Not Placed', 'Placed'], dtype=object)"
      ]
     },
     "execution_count": 12,
     "metadata": {},
     "output_type": "execute_result"
    }
   ],
   "source": [
    "dataset[\"PlacementStatus\"].unique()"
   ]
  },
  {
   "cell_type": "code",
   "execution_count": 13,
   "id": "60a502c4-46bc-4aec-aefe-845bdd07920a",
   "metadata": {},
   "outputs": [],
   "source": [
    "# Checking Null Values"
   ]
  },
  {
   "cell_type": "code",
   "execution_count": 14,
   "id": "e8f62551-3678-4088-8cd7-82abe2bdb8b7",
   "metadata": {},
   "outputs": [
    {
     "data": {
      "text/plain": [
       "CGPA                         0\n",
       "Internships                  0\n",
       "Projects                     0\n",
       "Workshops/Certifications     0\n",
       "AptitudeTestScore            0\n",
       "SoftSkillsRating             0\n",
       "ExtracurricularActivities    0\n",
       "PlacementTraining            0\n",
       "SSC_Marks                    0\n",
       "HSC_Marks                    0\n",
       "PlacementStatus              0\n",
       "dtype: int64"
      ]
     },
     "execution_count": 14,
     "metadata": {},
     "output_type": "execute_result"
    }
   ],
   "source": [
    "dataset.isnull().sum()"
   ]
  },
  {
   "cell_type": "code",
   "execution_count": 15,
   "id": "bb6f9e23-c757-44da-9d4e-89a5b530346a",
   "metadata": {},
   "outputs": [],
   "source": [
    "# Removing Duplicate rows"
   ]
  },
  {
   "cell_type": "code",
   "execution_count": 16,
   "id": "543a3506-aa49-4f9d-9ea6-ed2c3a9d3b48",
   "metadata": {},
   "outputs": [
    {
     "data": {
      "text/plain": [
       "72"
      ]
     },
     "execution_count": 16,
     "metadata": {},
     "output_type": "execute_result"
    }
   ],
   "source": [
    "dataset.duplicated().sum()"
   ]
  },
  {
   "cell_type": "code",
   "execution_count": 17,
   "id": "5bfbd69e-aa8d-4c46-8aa3-c5d417ecda8b",
   "metadata": {},
   "outputs": [],
   "source": [
    "dataset.drop_duplicates(inplace=True)"
   ]
  },
  {
   "cell_type": "code",
   "execution_count": 18,
   "id": "43562435-5630-4598-ba86-abfd24c9d8db",
   "metadata": {},
   "outputs": [],
   "source": [
    "# Ouliers"
   ]
  },
  {
   "cell_type": "code",
   "execution_count": 19,
   "id": "562b7c4d-70c5-4399-ae48-4afd275ad609",
   "metadata": {},
   "outputs": [
    {
     "data": {
      "image/png": "[encoded data removed]",
      "text/plain": [
       "<Figure size 2000x600 with 1 Axes>"
      ]
     },
     "metadata": {},
     "output_type": "display_data"
    }
   ],
   "source": [
    "plt.figure(figsize=(20,6))\n",
    "sns.boxplot(dataset[dataset.select_dtypes(include=['int64','float64']).columns])\n",
    "plt.show()"
   ]
  },
  {
   "cell_type": "code",
   "execution_count": 20,
   "id": "df3f0ee6-826f-4bb0-9ecf-72d2fc308a46",
   "metadata": {},
   "outputs": [],
   "source": [
    "# Spliting The Data Into Train And Test"
   ]
  },
  {
   "cell_type": "code",
   "execution_count": 21,
   "id": "b9c3e5af-1e4b-429c-b34b-a42bcc320dd4",
   "metadata": {},
   "outputs": [],
   "source": [
    "x = dataset.iloc[:,:-1]\n",
    "y = dataset[[\"PlacementStatus\"]]"
   ]
  },
  {
   "cell_type": "code",
   "execution_count": 22,
   "id": "29ac6deb-fa8c-4de4-b9d2-1397e6efcbfd",
   "metadata": {},
   "outputs": [],
   "source": [
    "X_train , x_test , Y_train , y_test = train_test_split(x , y , test_size=0.2 , random_state=42)"
   ]
  },
  {
   "cell_type": "code",
   "execution_count": 23,
   "id": "49f5b861-c989-4df5-9147-6f889bc3d0ba",
   "metadata": {},
   "outputs": [
    {
     "name": "stdout",
     "output_type": "stream",
     "text": [
      "Testing Shape : (1986, 10)\n",
      "Trainging Shape : (7942, 10)\n"
     ]
    }
   ],
   "source": [
    "print(f\"Testing Shape : {x_test.shape}\")\n",
    "print(f\"Trainging Shape : {X_train.shape}\")"
   ]
  },
  {
   "cell_type": "code",
   "execution_count": 24,
   "id": "03707084-ab15-468a-b1e6-437386d5be27",
   "metadata": {},
   "outputs": [],
   "source": [
    "# Encoding chategorical Data"
   ]
  },
  {
   "cell_type": "code",
   "execution_count": 25,
   "id": "339a9c14-74ea-47da-8633-039fcc118394",
   "metadata": {},
   "outputs": [],
   "source": [
    "categorical_columns = X_train.select_dtypes(include='object').columns\n",
    "numeric_columns = X_train.select_dtypes(include=['int64','float64']).columns"
   ]
  },
  {
   "cell_type": "code",
   "execution_count": 26,
   "id": "20324d11-adac-41b7-8091-c1f59c0522a5",
   "metadata": {},
   "outputs": [],
   "source": [
    "encoder = OneHotEncoder(drop='first',sparse_output=False)"
   ]
  },
  {
   "cell_type": "code",
   "execution_count": 27,
   "id": "80475206-5f3f-4fa2-bee4-5c5cecdc8856",
   "metadata": {},
   "outputs": [],
   "source": [
    "X_train[categorical_columns] = encoder.fit_transform(X_train[categorical_columns])\n",
    "x_test[categorical_columns] = encoder.transform(x_test[categorical_columns])"
   ]
  },
  {
   "cell_type": "code",
   "execution_count": 28,
   "id": "c4103755-4558-4306-bcf8-e5a3ec11e650",
   "metadata": {},
   "outputs": [],
   "source": [
    "# Scaling The Numeric Data"
   ]
  },
  {
   "cell_type": "code",
   "execution_count": 29,
   "id": "271497a9-7fc9-42a7-baa9-5bfca9151e9d",
   "metadata": {},
   "outputs": [],
   "source": [
    "scaler = MinMaxScaler()"
   ]
  },
  {
   "cell_type": "code",
   "execution_count": 30,
   "id": "9fac465f-a86e-48a3-8b06-251e2176daf5",
   "metadata": {},
   "outputs": [],
   "source": [
    "X_train[numeric_columns] = scaler.fit_transform(X_train[numeric_columns])\n",
    "x_test[numeric_columns] = scaler.transform(x_test[numeric_columns])"
   ]
  },
  {
   "cell_type": "code",
   "execution_count": 31,
   "id": "e26a9a6b-0464-4924-b924-3d18770ccf5a",
   "metadata": {},
   "outputs": [],
   "source": [
    "# Encoding Output Feature"
   ]
  },
  {
   "cell_type": "code",
   "execution_count": 32,
   "id": "03e55989-4755-4ef3-91d2-ef94772432d8",
   "metadata": {},
   "outputs": [],
   "source": [
    "output_encoder = OneHotEncoder(drop='first',sparse_output=False)"
   ]
  },
  {
   "cell_type": "code",
   "execution_count": 33,
   "id": "8cb47b23-1ff7-47c6-872a-84bbe8715b09",
   "metadata": {},
   "outputs": [],
   "source": [
    "Y_train = output_encoder.fit_transform(Y_train)\n",
    "y_test = output_encoder.transform(y_test)"
   ]
  },
  {
   "cell_type": "code",
   "execution_count": 34,
   "id": "922b4898-f317-4ace-b7ba-42b13e18b9c1",
   "metadata": {},
   "outputs": [],
   "source": [
    "# Model Training"
   ]
  },
  {
   "cell_type": "code",
   "execution_count": 35,
   "id": "20ce278e-651f-464d-9266-f77f64e56f0b",
   "metadata": {},
   "outputs": [],
   "source": [
    "# Balancing The Class Distribution"
   ]
  },
  {
   "cell_type": "code",
   "execution_count": 36,
   "id": "5eadab2e-d917-4e5f-965b-b4dfba2bad93",
   "metadata": {},
   "outputs": [
    {
     "name": "stdout",
     "output_type": "stream",
     "text": [
      "Before Class Distribution {0.0: 4613, 1.0: 3329}\n"
     ]
    }
   ],
   "source": [
    "value , count = np.unique(Y_train , return_counts=True)\n",
    "before = dict(zip(value ,count))\n",
    "print(f\"Before Class Distribution {before}\")"
   ]
  },
  {
   "cell_type": "code",
   "execution_count": 37,
   "id": "07d6b1a3-16cb-4560-9627-b17adfb82161",
   "metadata": {},
   "outputs": [
    {
     "name": "stdout",
     "output_type": "stream",
     "text": [
      "Shape before : (7942, 1)\n"
     ]
    }
   ],
   "source": [
    "print(f\"Shape before : {Y_train.shape}\")"
   ]
  },
  {
   "cell_type": "code",
   "execution_count": 38,
   "id": "4e4c0edc-fec7-499d-8dca-1fc175a7f740",
   "metadata": {},
   "outputs": [],
   "source": [
    "sm = SMOTE()"
   ]
  },
  {
   "cell_type": "code",
   "execution_count": 39,
   "id": "a70c3cfe-7abe-4a51-a4b6-3c1fd71b3bc8",
   "metadata": {},
   "outputs": [],
   "source": [
    "x_train , y_train = sm.fit_resample(X_train , Y_train)"
   ]
  },
  {
   "cell_type": "code",
   "execution_count": 40,
   "id": "0d6f9314-7838-4a17-999a-40dd66681924",
   "metadata": {},
   "outputs": [
    {
     "name": "stdout",
     "output_type": "stream",
     "text": [
      "After Class Distribution : {0.0: 4613, 1.0: 4613}\n",
      "Shape After (9226, 10)\n"
     ]
    }
   ],
   "source": [
    "value2 , count2 = np.unique(y_train , return_counts=True)\n",
    "after = dict(zip(value2 , count2))\n",
    "print(f\"After Class Distribution : {after}\")\n",
    "print(f\"Shape After {x_train.shape}\")"
   ]
  },
  {
   "cell_type": "code",
   "execution_count": 41,
   "id": "1359da7f-b4be-45ae-ab12-a8edb5a3d1b2",
   "metadata": {},
   "outputs": [],
   "source": [
    "models = {\n",
    "\n",
    "    'Logistic Regression' : LogisticRegression(),\n",
    "    'KNN' : KNeighborsClassifier(),\n",
    "    'SVM' : SVC(),\n",
    "    'Decision Tree':DecisionTreeClassifier(),\n",
    "    'Random Forest':RandomForestClassifier(),\n",
    "    'AdaBoost':AdaBoostClassifier(),\n",
    "    'GradientBoost':GradientBoostingClassifier(),\n",
    "    'XGBoost':xgb.XGBClassifier()\n",
    "}"
   ]
  },
  {
   "cell_type": "code",
   "execution_count": 42,
   "id": "7ed45cd7-3528-4df2-a662-8dea45e0ff8a",
   "metadata": {},
   "outputs": [
    {
     "name": "stdout",
     "output_type": "stream",
     "text": [
      "Logistic Regression | Accuracy Score : 79.456%\n",
      "Logistic Regression | Mean F1-Score After CV : 79.794\n",
      "\n",
      "[[907 281]\n",
      " [127 671]] \n",
      "\n",
      "KNN | Accuracy Score : 76.989%\n",
      "KNN | Mean F1-Score After CV : 78.703\n",
      "\n",
      "[[895 293]\n",
      " [164 634]] \n",
      "\n",
      "SVM | Accuracy Score : 78.751%\n",
      "SVM | Mean F1-Score After CV : 79.719\n",
      "\n",
      "[[903 285]\n",
      " [137 661]] \n",
      "\n",
      "Decision Tree | Accuracy Score : 70.443%\n",
      "Decision Tree | Mean F1-Score After CV : 73.698\n",
      "\n",
      "[[861 327]\n",
      " [260 538]] \n",
      "\n",
      "Random Forest | Accuracy Score : 79.104%\n",
      "Random Forest | Mean F1-Score After CV : 80.986\n",
      "\n",
      "[[958 230]\n",
      " [185 613]] \n",
      "\n",
      "AdaBoost | Accuracy Score : 80.262%\n",
      "AdaBoost | Mean F1-Score After CV : 79.645\n",
      "\n",
      "[[940 248]\n",
      " [144 654]] \n",
      "\n",
      "GradientBoost | Accuracy Score : 80.312%\n",
      "GradientBoost | Mean F1-Score After CV : 81.180\n",
      "\n",
      "[[944 244]\n",
      " [147 651]] \n",
      "\n",
      "XGBoost | Accuracy Score : 78.953%\n",
      "XGBoost | Mean F1-Score After CV : 80.533\n",
      "\n",
      "[[958 230]\n",
      " [188 610]] \n",
      "\n"
     ]
    }
   ],
   "source": [
    "for name , model in models.items():\n",
    "    model.fit(x_train , y_train)\n",
    "    y_pred = model.predict(x_test)\n",
    "    print(f\"{name} | Accuracy Score : {accuracy_score(y_test , y_pred)*100:.3f}%\")\n",
    "    cv = StratifiedKFold(n_splits=5, shuffle=True, random_state=42)\n",
    "    scores = cross_val_score(model , x_train , y_train , cv=cv , scoring='f1')\n",
    "    print(f\"{name} | Mean F1-Score After CV : {np.mean(scores)*100:.3f}\\n\")\n",
    "    cm = confusion_matrix(y_test , y_pred)\n",
    "    print(cm,'\\n')"
   ]
  },
  {
   "cell_type": "code",
   "execution_count": 43,
   "id": "a213a13f-4587-43b6-8fb0-573c1d80e3e7",
   "metadata": {},
   "outputs": [],
   "source": [
    "# best Model"
   ]
  },
  {
   "cell_type": "code",
   "execution_count": 44,
   "id": "5d9ed1aa-3eca-4380-9956-5674ae1d72ad",
   "metadata": {},
   "outputs": [],
   "source": [
    "best_model = LogisticRegression(C= 0.01, class_weight = 'balanced', penalty = 'l2', solver = 'liblinear')\n",
    "best_model.fit(x_train , y_train)\n",
    "y_pred = best_model.predict(x_test)"
   ]
  },
  {
   "cell_type": "code",
   "execution_count": 45,
   "id": "6e5504bf-b23d-4219-bed7-2e4b82b6c492",
   "metadata": {},
   "outputs": [],
   "source": [
    "# Model Evaluation"
   ]
  },
  {
   "cell_type": "code",
   "execution_count": 46,
   "id": "3a8b153d-ed87-43ac-a241-2fc9ad842fd3",
   "metadata": {},
   "outputs": [
    {
     "name": "stdout",
     "output_type": "stream",
     "text": [
      "Training Score : 78.21374376761327%\n",
      "Testing Score : 77.19033232628398%\n",
      "Accuracy Score : 77.19033232628398\n",
      "Recall Score : 66.507\n",
      "Precsion Score : 87.093\n",
      "F1 Score : 75.421\n"
     ]
    }
   ],
   "source": [
    "print(f\"Training Score : {best_model.score(x_train , y_train)*100}%\")\n",
    "print(f\"Testing Score : {best_model.score(x_test , y_test)*100}%\")\n",
    "print(\"Accuracy Score :\",accuracy_score(y_pred,y_test)*100)\n",
    "print(\"Recall Score :\",round(recall_score(y_pred,y_test)*100,3))\n",
    "print(\"Precsion Score :\",round(precision_score(y_pred,y_test)*100,3))\n",
    "print(\"F1 Score :\",round(f1_score(y_pred,y_test)*100,3))"
   ]
  },
  {
   "cell_type": "code",
   "execution_count": 47,
   "id": "09fed49d-da10-4b71-808a-72b7015539a2",
   "metadata": {},
   "outputs": [],
   "source": [
    "# confusion Matrix"
   ]
  },
  {
   "cell_type": "code",
   "execution_count": 48,
   "id": "f67ce6d1-b732-46bf-96b4-f2300dfca6cf",
   "metadata": {},
   "outputs": [
    {
     "data": {
      "image/png": "[encoded data removed]",
      "text/plain": [
       "<Figure size 640x480 with 2 Axes>"
      ]
     },
     "metadata": {},
     "output_type": "display_data"
    }
   ],
   "source": [
    "cm = confusion_matrix(y_test , y_pred)\n",
    "sns.heatmap(data=cm , annot=True , fmt='g',cmap='Blues')\n",
    "plt.title(\"Confusion Matrix\")\n",
    "plt.show()"
   ]
  },
  {
   "cell_type": "code",
   "execution_count": 49,
   "id": "63b426f3-ea86-4935-8f23-6ca61724528a",
   "metadata": {},
   "outputs": [],
   "source": [
    "# Features Importance"
   ]
  },
  {
   "cell_type": "code",
   "execution_count": 50,
   "id": "b7e1e85c-2293-4475-a36f-2d996e54b788",
   "metadata": {},
   "outputs": [
    {
     "name": "stdout",
     "output_type": "stream",
     "text": [
      "                     Feature  Importance\n",
      "6  ExtracurricularActivities    0.019134\n",
      "4          AptitudeTestScore    0.011329\n",
      "8                  SSC_Marks    0.009869\n",
      "9                  HSC_Marks    0.009063\n",
      "2                   Projects    0.006697\n",
      "0                       CGPA    0.006395\n",
      "3   Workshops/Certifications    0.004582\n",
      "5           SoftSkillsRating    0.001561\n",
      "7          PlacementTraining    0.001309\n",
      "1                Internships    0.000000\n"
     ]
    }
   ],
   "source": [
    "from sklearn.inspection import permutation_importance\n",
    "\n",
    "result = permutation_importance(best_model, x_test, y_test, n_repeats=10, random_state=42)\n",
    "\n",
    "importance_df = pd.DataFrame({\n",
    "    'Feature': x_test.columns,\n",
    "    'Importance': result.importances_mean\n",
    "}).sort_values(by='Importance', ascending=False)\n",
    "\n",
    "print(importance_df)\n"
   ]
  },
  {
   "cell_type": "code",
   "execution_count": 51,
   "id": "3b67f492-4cb0-4508-b4fc-da2288d6afdc",
   "metadata": {},
   "outputs": [
    {
     "data": {
      "image/png": "[encoded data removed]",
      "text/plain": [
       "<Figure size 640x480 with 1 Axes>"
      ]
     },
     "metadata": {},
     "output_type": "display_data"
    }
   ],
   "source": [
    "import matplotlib.pyplot as plt\n",
    "\n",
    "importance_df.head(10).plot(kind='barh', x='Feature', y='Importance', legend=False)\n",
    "plt.title(\"Top 10 Important Features for Pass/Fail\")\n",
    "plt.show()"
   ]
  },
  {
   "cell_type": "code",
   "execution_count": 52,
   "id": "ca54c7b3-d2f5-4f27-a561-54fd2bf01d5e",
   "metadata": {},
   "outputs": [],
   "source": [
    "# Hyper parameter Tuning"
   ]
  },
  {
   "cell_type": "code",
   "execution_count": 53,
   "id": "805d43da-69cd-400f-908b-ee9d5d7a4ce2",
   "metadata": {},
   "outputs": [
    {
     "name": "stdout",
     "output_type": "stream",
     "text": [
      "{'C': 1, 'class_weight': None, 'penalty': 'l2', 'solver': 'saga'}\n",
      "0.7878949420410644\n"
     ]
    }
   ],
   "source": [
    "param_grid = {\n",
    "    'C': [0.01, 0.1, 1, 10, 100],\n",
    "    'penalty': ['l1', 'l2'],\n",
    "    'solver': ['liblinear', 'saga'],\n",
    "    'class_weight': [None, 'balanced']\n",
    "}\n",
    "\n",
    "grid = GridSearchCV(estimator=best_model, param_grid=param_grid, cv=5, scoring='precision')\n",
    "grid.fit(x_train, y_train)\n",
    "\n",
    "print(grid.best_params_)\n",
    "print(grid.best_score_)\n"
   ]
  },
  {
   "cell_type": "code",
   "execution_count": 54,
   "id": "472b4b03-5410-4264-a3d9-df3e42067119",
   "metadata": {},
   "outputs": [],
   "source": [
    "final_model = LogisticRegression(C= 0.01, class_weight = 'balanced', penalty = 'l2', solver = 'liblinear')\n",
    "final_model.fit(x_train , y_train)\n",
    "y_pred = final_model.predict(x_test)"
   ]
  },
  {
   "cell_type": "code",
   "execution_count": 55,
   "id": "3cb93fd7-453a-4377-adcf-e9a9999d329f",
   "metadata": {},
   "outputs": [
    {
     "name": "stdout",
     "output_type": "stream",
     "text": [
      "Training Score : 78.21374376761327%\n",
      "Testing Score : 77.19033232628398%\n",
      "Accuracy Score : 77.19033232628398\n",
      "Recall Score : 66.507\n",
      "Precsion Score : 87.093\n",
      "F1 Score : 75.421\n"
     ]
    }
   ],
   "source": [
    "print(f\"Training Score : {best_model.score(x_train , y_train)*100}%\")\n",
    "print(f\"Testing Score : {best_model.score(x_test , y_test)*100}%\")\n",
    "print(\"Accuracy Score :\",accuracy_score(y_pred,y_test)*100)\n",
    "print(\"Recall Score :\",round(recall_score(y_pred,y_test)*100,3))\n",
    "print(\"Precsion Score :\",round(precision_score(y_pred,y_test)*100,3))\n",
    "print(\"F1 Score :\",round(f1_score(y_pred,y_test)*100,3))"
   ]
  },
  {
   "cell_type": "code",
   "execution_count": 56,
   "id": "c98d83fc-952d-41bc-bc78-69494ace9dbb",
   "metadata": {},
   "outputs": [
    {
     "data": {
      "image/png": "[encoded data removed]",
      "text/plain": [
       "<Figure size 640x480 with 2 Axes>"
      ]
     },
     "metadata": {},
     "output_type": "display_data"
    }
   ],
   "source": [
    "cm = confusion_matrix(y_test , y_pred)\n",
    "sns.heatmap(data=cm , annot=True , fmt='g',cmap='Blues')\n",
    "plt.title(\"Confusion Matrix\")\n",
    "plt.show()"
   ]
  },
  {
   "cell_type": "code",
   "execution_count": 57,
   "id": "03df52d2-2444-42b2-822e-c2534dc5bec2",
   "metadata": {},
   "outputs": [],
   "source": [
    "# Saving Model For Deployment"
   ]
  },
  {
   "cell_type": "code",
   "execution_count": 58,
   "id": "98dcf99d-53fe-436c-b77a-6693ad32a7a8",
   "metadata": {},
   "outputs": [
    {
     "name": "stdout",
     "output_type": "stream",
     "text": [
      "Models Saved Successfuly.\n"
     ]
    }
   ],
   "source": [
    "joblib.dump(final_model , \"placement_prd_model.pkl\")\n",
    "joblib.dump(encoder , \"placement_prd_encoder.pkl\")\n",
    "joblib.dump(output_encoder , \"placement_prd_output_encoder.pkl\")\n",
    "joblib.dump(scaler , \"placement_prd_scaler.pkl\")\n",
    "print(\"Models Saved Successfuly.\")"
   ]
  }
 ],
 "metadata": {
  "kernelspec": {
   "display_name": "Python 3 (ipykernel)",
   "language": "python",
   "name": "python3"
  },
  "language_info": {
   "codemirror_mode": {
    "name": "ipython",
    "version": 3
   },
   "file_extension": ".py",
   "mimetype": "text/x-python",
   "name": "python",
   "nbconvert_exporter": "python",
   "pygments_lexer": "ipython3",
   "version": "3.12.3"
  }
 },
 "nbformat": 4,
 "nbformat_minor": 5
}
